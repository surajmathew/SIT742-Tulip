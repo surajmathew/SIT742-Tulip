{
  "cells": [
    {
      "cell_type": "markdown",
      "metadata": {
        "id": "2Fh_J-5SGwoB"
      },
      "source": [
        "\n",
        "# Practice Lab M02 \n",
        "## Writing and Reading Text Files\n",
        "\n",
        "This task on the USA baby name project is to perform the practice on python code, i.e. Write and read files on popular baby names. \n",
        "However, now we have input from multiple data files , which includes data on Year $2000$, $2002$, $2004$, $2006$ and $2008$. As output, data need to be written into multiple summary files as well. In addition, to generalize the program so that it can apply to arbitrary filenames, the file names are specified as command line arguments.\n",
        "\n",
        "To do:\n",
        "\n",
        "*   Read the $2000$, $2002$, $2004$, $2006$ and $2008$ data; \n",
        "*   Write $2000$, $2002$, $2004$, $2006$ and $2008$ files with particular format.\n"
      ]
    },
    {
      "cell_type": "markdown",
      "metadata": {
        "id": "pF51N__QI2wE"
      },
      "source": [
        "**Task 1.1** We first learn together how to read and write multiple files on Year $2000$, $2002$, $2004$, $2006$ and $2008$.\n",
        "\n",
        "---\n",
        "\n",
        "**Hint:** \n",
        "\n",
        "Reading text files in Python is relatively easy to compare with most of the other programming languages. Usually, we just use the “**open()**” function with reading or writing mode and then start to **loop the text files** line by line.\n",
        "\n",
        "---\n",
        "\n",
        "***Code Logic:***\n",
        "\n",
        "datafile = open('new_file_for_write.txt','w+') \\\\\n",
        "for file in ['my_file1.txt', 'my_file2.txt']: \\\\\n",
        "&nbsp;&nbsp;&nbsp;    with open(file, 'r') as f: \\\\\n",
        "&nbsp;&nbsp;&nbsp;&nbsp;&nbsp;&nbsp;        for line in f: \\\\\n",
        "&nbsp;&nbsp;&nbsp;&nbsp;&nbsp;&nbsp;&nbsp;&nbsp;&nbsp;   print(line) \\\\\n",
        "&nbsp;&nbsp;&nbsp;&nbsp;&nbsp;&nbsp;&nbsp;&nbsp;&nbsp;   datafile.write(F'{line}\\n')\n",
        "\n",
        "***Explain on Logic:***\n",
        "\n",
        "Firstly, building empty text file for writing in.\n",
        "Next, iterating on all five files and read each file line by line;\n",
        "Finally, writing the line into new build text file."
      ]
    },
    {
      "cell_type": "code",
      "execution_count": null,
      "metadata": {
        "id": "4Z5d2_NaI15R"
      },
      "outputs": [],
      "source": [
        "# Using for loops to read the year 2008 file and print lines \n",
        "# Follow the code logic from Hint\n",
        "# write code after here\n",
        "\n",
        "%%capture\n"
      ]
    },
    {
      "cell_type": "code",
      "execution_count": null,
      "metadata": {
        "id": "0V6MdRNAGvrI"
      },
      "outputs": [],
      "source": [
        "# Using for loops to read the all 5 years' file and print lines \n",
        "# Follow the code logic from Hint\n",
        "# write code after here\n",
        "%%capture\n"
      ]
    },
    {
      "cell_type": "code",
      "execution_count": null,
      "metadata": {
        "id": "F8oAdzdoGiYL"
      },
      "outputs": [],
      "source": [
        "# Using for loops to read the multile file and write the lines into new file \"babyname.txt\" \n",
        "# Follow the code logic from Hint\n",
        "# write code after here\n",
        "\n",
        "\n"
      ]
    },
    {
      "cell_type": "markdown",
      "metadata": {
        "id": "2Px1XU5nPlGC"
      },
      "source": [
        "**Task 1.2** File reading could have many other ways instead of using open(). In this task, we will perform the file reading with different ways."
      ]
    },
    {
      "cell_type": "markdown",
      "metadata": {
        "id": "TNVfSc__Wjpm"
      },
      "source": [
        "Firstly, use the FileInput Module from Python to read and write the multiple files on Year $2000$, $2002$, $2004$, $2006$ and $2008$.\n",
        "\n",
        "The ***fileinput*** module just provides us with a neater way of reading multiple text files into a single stream.\n",
        "\n",
        "---\n",
        "***Hint:*** \n",
        "\n",
        "with fileinput.input(files) as f: \\\\\n",
        "&nbsp;&nbsp;&nbsp;  for line in f: \\\\\n",
        "&nbsp;&nbsp;&nbsp;&nbsp;&nbsp;&nbsp;   ... \n"
      ]
    },
    {
      "cell_type": "code",
      "execution_count": null,
      "metadata": {
        "id": "bNVC8T2DXdOe"
      },
      "outputs": [],
      "source": [
        "## exmple of read file by using fileinput\n",
        "%%capture\n"
      ]
    },
    {
      "cell_type": "code",
      "execution_count": null,
      "metadata": {
        "id": "ZJ22ZtZYWfI-"
      },
      "outputs": [],
      "source": [
        "## Now, please write code to read all 5 files by using fileinput and write them in new file \"babyname.txt\" \n",
        "import fileinput as fi\n",
        "\n"
      ]
    },
    {
      "cell_type": "markdown",
      "metadata": {
        "id": "V0l17a1xZXu_"
      },
      "source": [
        "**Task 1.3** File reading with condition on cerntain types. In this task, we will perform the file reading with multiple conditions.\n",
        "\n",
        "---\n",
        "\n",
        "Sometimes, it may not be practical to have such a file name list with all the names that are manually typed. It is quite common to read all the files from a directory. Also, we might be only interested in certain types of files: ***.txt***. we can use the glob module which is another Python built-in module together with the fileinput module.\n",
        "\n",
        "---\n",
        "***Hint:***\n",
        "\n",
        "*Using glob() to filter the files wihich types are not txt*\n",
        "\n",
        "with fi.input(files=glob('*.txt')) as f: \\\\\n",
        "&nbsp;&nbsp;&nbsp;    for line in f: \\\\\n",
        "&nbsp;&nbsp;&nbsp;&nbsp;&nbsp;&nbsp;        print(line)"
      ]
    },
    {
      "cell_type": "code",
      "execution_count": null,
      "metadata": {
        "id": "7YvaHwEMgFr0"
      },
      "outputs": [],
      "source": [
        "# use os.listdir() to list all files in target folder\n",
        "import os\n",
        "\n"
      ]
    },
    {
      "cell_type": "code",
      "execution_count": null,
      "metadata": {
        "id": "TmuJwBKrdorN"
      },
      "outputs": [],
      "source": [
        "# Using for loops to read the all 5 years' txt file without specifying the file name and print lines\n",
        "# Follow the code logic from Hint\n",
        "# write code after here\n",
        "%%capture\n",
        "from glob import glob\n",
        "import fileinput as fi\n",
        "\n"
      ]
    },
    {
      "cell_type": "code",
      "execution_count": null,
      "metadata": {
        "id": "LxL-3yXfd-H3"
      },
      "outputs": [],
      "source": [
        "# Using for loops to read the all 5 years' txt file without specifying the file name and write in new file \"babyname.txt\"\n",
        "# Follow the code logic from Hint\n",
        "# write code after here\n",
        "from glob import glob\n",
        "import fileinput as fi\n",
        "\n"
      ]
    },
    {
      "cell_type": "markdown",
      "metadata": {
        "id": "yQHtD3aWgUcE"
      },
      "source": [
        "**Task 1.4** File writing with specific format\n",
        "\n",
        "In this task, we will write the all 5 years data with only name and count (removing year and gender)\n",
        "\n",
        "***Hint:***\n",
        "\n",
        "When reading each line, \\\\\n",
        "current_line = line \\\\\n",
        "columns = current_line.split() \\\\\n",
        "name = columns[1] \\\\\n",
        "count = columns[3] \\\\\n",
        "datafile.write(F'{name} \\t {count} \\n')"
      ]
    },
    {
      "cell_type": "code",
      "execution_count": null,
      "metadata": {
        "id": "plFBrT7ajHjk"
      },
      "outputs": [],
      "source": [
        "# first, we re-use the code we write for task 1.1 and then following the hint above to write the new file \"babyname.txt\" with only name and count\n",
        "\n"
      ]
    },
    {
      "cell_type": "code",
      "execution_count": null,
      "metadata": {
        "id": "sIfLdS3Hkv1l"
      },
      "outputs": [],
      "source": [
        "# Second, we re-use the code we write for task 1.2 and then following the hint above to write the new file \"babyname.txt\" with only name and count\n",
        "import fileinput as fi\n",
        "\n"
      ]
    },
    {
      "cell_type": "code",
      "execution_count": null,
      "metadata": {
        "id": "AJBP4q4Ek2F8"
      },
      "outputs": [],
      "source": [
        "# Third, we re-use the code we write for task 1.3 and then following the hint above to write the new file \"babyname.txt\" with only name and count\n",
        "from glob import glob\n",
        "import fileinput as fi\n"
      ]
    },
    {
      "cell_type": "markdown",
      "metadata": {
        "id": "f8KRWZwBoz8L"
      },
      "source": [
        "**Task 1.5** File writing with condition\n",
        "In this task, we will rist read and write the all 5 years data with only name and count (removing year and gender),\n",
        "also only write the names with conditions (letter start with 'B').\n",
        "\n",
        "***Hint:***\n",
        "\n",
        "Adding if condition while writing the name to empty file \\\\\n",
        "(name.lower() < 'c') and (name.lower()) >= 'b'"
      ]
    },
    {
      "cell_type": "code",
      "execution_count": null,
      "metadata": {
        "id": "48HjaQubqiD0"
      },
      "outputs": [],
      "source": [
        "# First, we will re-use the code we write for task 1.5 and then only write the name and count which name starts with 'B'  \n",
        "\n",
        "from glob import glob\n",
        "import fileinput as fi\n"
      ]
    },
    {
      "cell_type": "markdown",
      "metadata": {
        "id": "_VbOeOY7sAVc"
      },
      "source": [
        "**Task 1.6** File writing with sort\n",
        "In this task, we will rist read and write the all 5 years data with only name and count (removing year and gender),\n",
        "also only write the names with conditions (letter start with 'B'),\n",
        "lastly, we will sort the new file by having the count from highest to smallest.\n",
        "\n",
        "***Hint:***\n",
        "\n",
        "sort(key = lambda x : int(x[3]), reverse=True) could sort the list in desc order. \\\\\n",
        "Also, please remove the header line for each file.\n"
      ]
    },
    {
      "cell_type": "code",
      "execution_count": null,
      "metadata": {
        "id": "OLp9RxmdrKGz"
      },
      "outputs": [],
      "source": [
        "from glob import glob\n",
        "import fileinput as fi\n"
      ]
    },
    {
      "cell_type": "markdown",
      "metadata": {
        "id": "PHEwyZWOoF2r"
      },
      "source": [
        "##**Tasks 2 Design the Python function for extracting the names **\n",
        "\n",
        "This task is following the task 1 to design the python function for extracting names with requirememnts arguments.\n",
        "\n",
        "To do:\n",
        "\n",
        "*  Design and Write the code for function ***extract_names*** with input arguments of reading file path, start_letter, counts, gender, new file name.\n",
        "\n"
      ]
    },
    {
      "cell_type": "markdown",
      "metadata": {
        "id": "UkGDly7Uz745"
      },
      "source": [
        "**Task 2.1** Write the method which could read the particular file and output new file with arguments = [start_letter = 'A', gender = 'F', new file name = 'babyname.txt']\n",
        "\n",
        "***Hint:***\n",
        "\n",
        "def my_function(): \\\\\n",
        "&nbsp;&nbsp;&nbsp; print(\"Hello from a function\") \\\\\n",
        "\n",
        "Inside of the function method, there should contain the file read, filter and write. "
      ]
    },
    {
      "cell_type": "code",
      "execution_count": null,
      "metadata": {
        "id": "xAMn_MXvz50Z"
      },
      "outputs": [],
      "source": [
        "# let's build the function for file read and write only at this moment.\n",
        "\n"
      ]
    },
    {
      "cell_type": "code",
      "execution_count": null,
      "metadata": {
        "id": "_PXOB5573Heh"
      },
      "outputs": [],
      "source": [
        "# let's build the function for file read, write with condition.\n",
        "\n"
      ]
    },
    {
      "cell_type": "code",
      "execution_count": null,
      "metadata": {
        "id": "KptkXPXH4Gry"
      },
      "outputs": [],
      "source": [
        "extract_names('data/*.txt','new_file_for_write.txt',Gender='F',start_letter='A')"
      ]
    }
  ],
  "metadata": {
    "colab": {
      "collapsed_sections": [],
      "name": "M02Prac_Notebook.ipynb",
      "provenance": []
    },
    "kernelspec": {
      "display_name": "Python 3",
      "name": "python3"
    },
    "language_info": {
      "name": "python"
    }
  },
  "nbformat": 4,
  "nbformat_minor": 0
}
