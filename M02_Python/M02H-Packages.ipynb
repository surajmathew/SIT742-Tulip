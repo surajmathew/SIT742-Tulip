{
 "cells": [
  {
   "cell_type": "markdown",
   "metadata": {
    "colab_type": "text",
    "id": "FtcmYWJc-FBb"
   },
   "source": [
    "![Cloud-First](../image/CloudFirst.png) \n",
    "\n",
    "\n",
    "\n",
    "# SIT742: Modern Data Science\n",
    "**(Module: Python Foundations for Big Data)**\n",
    "\n",
    "---\n",
    "- Materials in this module include resources collected from various open-source online repositories.\n",
    "- You are free to use, change and distribute this package.\n",
    "- If you found any issue/bug for this document, please submit an issue at [tulip-lab/sit742](https://github.com/tulip-lab/sit742/issues)\n",
    "\n",
    "\n",
    "Prepared by **SIT742 Teaching Team**\n",
    "\n",
    "---\n",
    "\n",
    "\n",
    "## Session 2H: Python Packages \n",
    "\n",
    "In this session, we will learn how to use Python Packages to manipulate the data and files."
   ]
  },
  {
   "cell_type": "markdown",
   "metadata": {
    "colab_type": "text",
    "id": "Fb5TqlLE-FBo"
   },
   "source": [
    "## Content\n",
    "\n",
    "\n",
    "\n",
    "### Part 1 Python packages\n",
    "\n",
    "1.1 [Standard Library](#standlib)\n",
    "\n",
    "1.2 [Third Party Packages](#3rdparty)\n",
    "\n",
    "1.3 [Importing a module](#importmod) \n",
    "\n",
    "\n",
    "### Part 2 Python Simple IO\n",
    "\n",
    "2.1 [Input](#input)\n",
    "\n",
    "2.2 [Output](#output)\n",
    "\n",
    "\n",
    "### Part 3 Datetime Module\n",
    "\n",
    "3.1 [Time](#time)\n",
    "\n",
    "3.2 [Date](#date)\n",
    "\n",
    "3.3 [Timedelta](#timedelta)\n",
    "\n",
    "3.4 [Formatting and Parsing](#parsing)\n",
    "\n"
   ]
  },
  {
   "cell_type": "markdown",
   "metadata": {
    "colab_type": "text",
    "id": "nDEk8Gqz-FBx"
   },
   "source": [
    "---\n",
    "## <span style=\"color:#0b486b\">1. Python packages</span>"
   ]
  },
  {
   "cell_type": "markdown",
   "metadata": {
    "colab_type": "text",
    "id": "ybgB1hro-FB2"
   },
   "source": [
    "After completing previous Python sessions, you should know about the syntax and semantics of the Python language. But apart from that, you should also learn about Python libraries and its packages to be able to code efficiently. Python’s standard library is very extensive, offering a wide range of facilities as indicated [here](https://docs.python.org/3/library/). The library contains built-in modules (written in C) that provide access to system functionality such as file I/O that would otherwise be inaccessible to Python programmers, as well as modules written in Python that provide standardized solutions for many problems that occur in everyday programming. Look at the [Python Standard Library Manual](https://docs.python.org/3/library/) to read more.\n",
    "\n",
    "In addition to the standard library, there is a growing collection of several thousand components (from individual programs and modules to packages and entire application development frameworks), available from the [Python Package Index](https://pypi.org)."
   ]
  },
  {
   "cell_type": "markdown",
   "metadata": {
    "colab_type": "text",
    "id": "Ws56RKhy-FB7"
   },
   "source": [
    "<a id = \"standlib\"></a>\n",
    "\n",
    "### <span style=\"color:#0b486b\">1.1 Standard libraries</span>"
   ]
  },
  {
   "cell_type": "markdown",
   "metadata": {
    "colab_type": "text",
    "id": "YLU8yilr-FCa"
   },
   "source": [
    "For a complete list of Python standard library and their documentation look at the [Python Manual.](https://docs.python.org/2/library/) A few to mention are:\n",
    "\n",
    "* ``math`` for numeric and math-related functions and data types\n",
    "* ``urllib`` for fetching data across the web\n",
    "* ``datetime`` for manipulating dates and times\n",
    "* ``pickle`` and ``cPickle`` for serializing and deserializing data structures enabling us to save our variables on the disk and load them from the disk\n",
    "* ``os`` for operating system dependent functions"
   ]
  },
  {
   "cell_type": "markdown",
   "metadata": {
    "colab_type": "text",
    "id": "D0gTVNG3-FCd"
   },
   "source": [
    "<a id = \"3rdparty\"></a>\n",
    "\n",
    "### <span style=\"color:#0b486b\">1.2 Third party packages</span>"
   ]
  },
  {
   "cell_type": "markdown",
   "metadata": {
    "colab_type": "text",
    "id": "G_FHaLGL-FCh"
   },
   "source": [
    "There are thousands of third party packages, each developed for a special task. Some of the useful libraries for data science are:\n",
    "\n",
    "* ``numpy`` is probably the most fundamental package for efficient scientific computing in Python\n",
    "* ``scipy`` is one of the core packages for scientific computations\n",
    "* ``pandas`` is a library for operating with table-like data structures called DataFrame object\n",
    "* ``matplotlib`` is a comprehensive plotting library\n",
    "* ``BeautifulSoup`` is an HTML and XML parser\n",
    "* ``scikit-learn`` is the most general machine learning library for Python\n",
    "* ``nltk`` is a toolkit for natural language processing"
   ]
  },
  {
   "cell_type": "markdown",
   "metadata": {
    "colab_type": "text",
    "id": "n9-8E657-FCs"
   },
   "source": [
    "---\n",
    "<a id = \"importmod\"></a>\n",
    "### <span style=\"color:#0b486b\">1.3 Importing a module</span>"
   ]
  },
  {
   "cell_type": "markdown",
   "metadata": {
    "colab_type": "text",
    "id": "dDvdJbCz-FCv"
   },
   "source": [
    "To use a module, first you have to ``import`` it. There are different ways to import a module:\n",
    "\n",
    "* `import my_module`\n",
    "* `from my_module import my_function`\n",
    "* `from my_module import my_function as func`\n",
    "* `from my_module import submodule`\n",
    "* `from my_module import submodule as sub`\n",
    "* `from my_module import *`"
   ]
  },
  {
   "cell_type": "markdown",
   "metadata": {
    "colab_type": "text",
    "id": "-ZAPHJav-FCz"
   },
   "source": [
    "**`'import my_module'`** imports the module `'my_module'` and creates a reference to it in the namespace. For example `'import math'` imports the module `'math'` into the namespace. After importing the module this way, you can use the dot operator `(.)` to refer to the objects defined in the module. For example `'math.exp()'` refers to function `'exp()'` in module `'math'`."
   ]
  },
  {
   "cell_type": "code",
   "execution_count": null,
   "metadata": {
    "colab": {},
    "colab_type": "code",
    "id": "f40P8yu7-FC3"
   },
   "outputs": [],
   "source": [
    "import math\n",
    "\n",
    "x = 2\n",
    "y1 = math.exp(x)\n",
    "y2 = math.log(x)\n",
    "\n",
    "print(\"e^{} is {} and log({}) is {}\".format(x, y1, x, y2))"
   ]
  },
  {
   "cell_type": "markdown",
   "metadata": {
    "colab_type": "text",
    "id": "umlFNTcm-FDG"
   },
   "source": [
    "**`'from my_module import my_function'`** only imports the function `'my_function'` from the module `'my_module'` into the namespace. This way you won't have access to neither the module (since you have not imported the module), nor the other objects of the module. You can only have access to the object you have imported.\n",
    "\n",
    "You can use a comma to import multiple objects."
   ]
  },
  {
   "cell_type": "code",
   "execution_count": null,
   "metadata": {
    "colab": {},
    "colab_type": "code",
    "id": "S68L0h56-FDK"
   },
   "outputs": [],
   "source": [
    "from math import exp\n",
    "\n",
    "x = 2\n",
    "y = exp(x)  # no need to math.exp()\n",
    "\n",
    "print(\"e^{} is {}\".format(x, y))"
   ]
  },
  {
   "cell_type": "markdown",
   "metadata": {
    "colab_type": "text",
    "id": "O7OwKRz0-FDV"
   },
   "source": [
    "**`'from my_module import my_function as func'`** imports the function `'my_function'` from module `'my_module'` but its identifier in the namespace is changed into `'func'`. This syntax is used to import submodules of a module as well. For example later you will see that nowadays it is almost a convention to import matplotlib.pyplot as plt."
   ]
  },
  {
   "cell_type": "code",
   "execution_count": null,
   "metadata": {
    "colab": {},
    "colab_type": "code",
    "id": "PkemZT1l-FDY"
   },
   "outputs": [],
   "source": [
    "# you can change the name of the imported object\n",
    "from math import exp as myfun\n",
    "\n",
    "x = 2\n",
    "y = myfun(x)\n",
    "\n",
    "print(\"e^{} is {}\".format(x, y))"
   ]
  },
  {
   "cell_type": "markdown",
   "metadata": {
    "colab_type": "text",
    "id": "yPV8jMzF-FDj"
   },
   "source": [
    "**`'from my_module import *'`** imports all the public objects defined in `'my_module'` into the namespace. Therefore after this statement you can simply use the plain name of the object to refer to it and there is no need to use the dot operator:"
   ]
  },
  {
   "cell_type": "code",
   "execution_count": null,
   "metadata": {
    "colab": {},
    "colab_type": "code",
    "id": "RRWQj8n9-FDq"
   },
   "outputs": [],
   "source": [
    "from math import *\n",
    "\n",
    "x = 2\n",
    "y1 = exp(x)\n",
    "y2 = log(x)\n",
    "\n",
    "print(\"e^{} is {} and log({}) is {}\".format(x, y1, x, y2))"
   ]
  },
  {
   "cell_type": "markdown",
   "metadata": {
    "colab_type": "text",
    "id": "jFyAzGPm-FD0"
   },
   "source": [
    "**Exercise 1:** \n",
    "\n",
    "1. Import the library `math` from standard Python libraries\n",
    "2. Define a variable and assign an integer value to it (smaller than 20)\n",
    "3. Use `factorial()` function (an object in `math` library) to calculate the factorial of the variable\n",
    "4. Print its value"
   ]
  },
  {
   "cell_type": "code",
   "execution_count": null,
   "metadata": {
    "colab": {},
    "colab_type": "code",
    "id": "69FyXRpt-FD3"
   },
   "outputs": [],
   "source": [
    "#Put your code here"
   ]
  },
  {
   "cell_type": "markdown",
   "metadata": {
    "colab_type": "text",
    "id": "1F2W0yVs1Zej"
   },
   "source": [
    "<details><summary><u><b><font color=\"Blue\">Click here for the solution to Exercise 1</font></b></u></summary>\n",
    "\n",
    "```python\n",
    "    import math\n",
    "    n = 10\n",
    "    # factorial means that the result when you multiply a whole number by all the numbers below it\n",
    "    # Hence, factorial(n) = n * (n-1) * (n-2) * ...... * 1\n",
    "    print(math.factorial(n))   \n",
    "```\n"
   ]
  },
  {
   "cell_type": "markdown",
   "metadata": {
    "colab_type": "text",
    "id": "C-TbbbaO-FEA"
   },
   "source": [
    "**Exercise 2:**\n",
    "\n",
    "1. Write a function that takes an integer variable and returns its factorial.\n",
    "2. Use this function to find the factorial of the variable defined in Exercise 1\n",
    "3. Do your answers match?"
   ]
  },
  {
   "cell_type": "code",
   "execution_count": null,
   "metadata": {
    "colab": {},
    "colab_type": "code",
    "id": "wrVdMU_u-FEC"
   },
   "outputs": [],
   "source": [
    "#Put your code here"
   ]
  },
  {
   "cell_type": "markdown",
   "metadata": {
    "colab_type": "text",
    "id": "eQXtvPYIn0Ss"
   },
   "source": [
    "<details><summary><u><b><font color=\"Blue\">Click here for the solution to Exercise 2</font></b></u></summary>\n",
    "\n",
    "```python\n",
    "def my_factorial(n):\n",
    "    if n==1:\n",
    "        return 1\n",
    "    else:\n",
    "        return n * my_factorial(n-1)    \n",
    "print(my_factorial(10)) \n",
    "```"
   ]
  },
  {
   "cell_type": "markdown",
   "metadata": {
    "colab_type": "text",
    "id": "Y9wByq5c-FEM"
   },
   "source": [
    "---\n",
    "\n",
    "## <span style=\"color:#0b486b\">2. Python simple input/output</span>\n",
    "\n",
    "<a id = \"input\"></a>\n",
    "\n",
    "### <span style=\"color:#0b486b\">2.1 Input</span>\n",
    "\n",
    "`input()` asks the user for a string of data (ended with a newline), and simply returns the string."
   ]
  },
  {
   "cell_type": "code",
   "execution_count": null,
   "metadata": {
    "colab": {},
    "colab_type": "code",
    "id": "TPVPb_62-FEO"
   },
   "outputs": [],
   "source": [
    "x = input('What is your name? ')\n",
    "\n",
    "print(\"x is {}\".format(type(x)))\n",
    "print(\"Your name is {}\".format(x))"
   ]
  },
  {
   "cell_type": "markdown",
   "metadata": {
    "colab_type": "text",
    "id": "Dq3-hh28-FEY"
   },
   "source": [
    "**Exercise 3:**\n",
    "\n",
    "1. Use `input()` to take a float value between -1 and 1 from the user\n",
    "2. Use the function `acos()` from `math` to find the arc cosine of it\n",
    "3. Print the value of the variable and its arc cosine"
   ]
  },
  {
   "cell_type": "code",
   "execution_count": null,
   "metadata": {
    "colab": {},
    "colab_type": "code",
    "id": "I6C0rhxp-FEa"
   },
   "outputs": [],
   "source": [
    "#Put your code here"
   ]
  },
  {
   "cell_type": "markdown",
   "metadata": {
    "colab_type": "text",
    "id": "M3foK9h0ooKY"
   },
   "source": [
    "<details><summary><u><b><font color=\"Blue\">Click here for the solution to Exercise 3</font></b></u></summary>\n",
    "\n",
    "```python\n",
    "x = input('Enter a real number between -1 and 1: ')\n",
    "y = math.acos(float(x))\n",
    "# acos function is used as the trigonometric function that is equal to the ratio of the side adjacent to an acute angle (in a right-angled triangle) to the hypotenuse.\n",
    "print('acos({}) = {}'.format(x,y)) \n",
    "```\n",
    "\n"
   ]
  },
  {
   "cell_type": "markdown",
   "metadata": {
    "colab_type": "text",
    "id": "00UHlj58-FEj"
   },
   "source": [
    "As we know the domain of [arc cosine function][acos] is [-1, 1]. So, what if the value entered by the user is not in the domain (the value is smaller than -1 or greater that 1)? What happens then? \n",
    "\n",
    "To avoid raising a ValueError exception, before passing the value to `acos()` function make sure it is in range and if not, display an appropriate message.\n",
    "\n",
    "[acos]: http://mathworld.wolfram.com/InverseCosine.html"
   ]
  },
  {
   "cell_type": "code",
   "execution_count": null,
   "metadata": {
    "colab": {},
    "colab_type": "code",
    "id": "bnDnPfOq-FEo"
   },
   "outputs": [],
   "source": [
    "# Add if-else statement on the exercise 3\n",
    "x = input('Enter a real number between -1 and 1: ')\n",
    "x = float(x)\n",
    "if x>=-1 and x<=1:\n",
    "    y = math.acos(x)\n",
    "    print('acos({}) = {}'.format(x,y))\n",
    "else:\n",
    "    print('Out of range')"
   ]
  },
  {
   "cell_type": "markdown",
   "metadata": {
    "colab_type": "text",
    "id": "qXO1sN7o-FEw"
   },
   "source": [
    "<a id = \"output\"></a>\n",
    "\n",
    "### <span style=\"color:#0b486b\">2.2 output</span>"
   ]
  },
  {
   "cell_type": "markdown",
   "metadata": {
    "colab_type": "text",
    "id": "Sb9kk_Uj-FE1"
   },
   "source": [
    "The basic way to do output is the print statement. To print multiple things on the same line separated by spaces, use commas between them."
   ]
  },
  {
   "cell_type": "code",
   "execution_count": null,
   "metadata": {
    "colab": {},
    "colab_type": "code",
    "id": "CRTLNz8--FE4"
   },
   "outputs": [],
   "source": [
    "name = \"John\"\n",
    "msg = \"Hello\"\n",
    "\n",
    "print(msg)\n",
    "print(msg, name)"
   ]
  },
  {
   "cell_type": "markdown",
   "metadata": {
    "colab_type": "text",
    "id": "DC3XfzpT-FFB"
   },
   "source": [
    "Objects can be printed on the same line using the 'end' arguments. You can read the [print()](https://docs.python.org/3/library/functions.html#print) syntax."
   ]
  },
  {
   "cell_type": "code",
   "execution_count": null,
   "metadata": {
    "colab": {},
    "colab_type": "code",
    "id": "9KQpYWC7-FFF"
   },
   "outputs": [],
   "source": [
    "print('Sample is using the end=\\'\\,\\'')\n",
    "for i in range(10):\n",
    "    print(i, end=',')    \n",
    "print('\\nSample is using the end=\\' \\'')   \n",
    "for i in range(10):    \n",
    "    print(i, end=' ')\n",
    "print('\\nSample is without the end arguments') \n",
    "for i in range(10):    \n",
    "    print(i)"
   ]
  },
  {
   "cell_type": "markdown",
   "metadata": {
    "colab_type": "text",
    "id": "U6o-Mudx-FFS"
   },
   "source": [
    "---\n",
    "## <span style=\"color:#0b486b\">3. datetime module</span>\n"
   ]
  },
  {
   "cell_type": "markdown",
   "metadata": {
    "colab_type": "text",
    "id": "ro05oOUt-FFV"
   },
   "source": [
    "The datetime module includes functions and classes for date and time parsing, formatting, and arithmetic."
   ]
  },
  {
   "cell_type": "markdown",
   "metadata": {
    "colab_type": "text",
    "id": "gBxIzp5W-FFa"
   },
   "source": [
    "<a id = \"time\"></a>\n",
    "\n",
    "### <span style=\"color:#0b486b\">3.1 Time</span>\n",
    "\n",
    "Time values are represented with the time class. Times have attributes for hour, minute, second, and microsecond. They can also include time zone information."
   ]
  },
  {
   "cell_type": "code",
   "execution_count": null,
   "metadata": {
    "colab": {},
    "colab_type": "code",
    "id": "Up5dk2aY-FFd"
   },
   "outputs": [],
   "source": [
    "import datetime\n",
    "\n",
    "t = datetime.time(11, 21, 33)\n",
    "print(t)\n",
    "print('hour  :', t.hour)\n",
    "print('minute:', t.minute)\n",
    "print('second:', t.second)\n",
    "print('microsecond:', t.microsecond)\n",
    "print('tzinfo:', t.tzinfo)"
   ]
  },
  {
   "cell_type": "markdown",
   "metadata": {
    "colab_type": "text",
    "id": "9mA0v-_s-FFq"
   },
   "source": [
    "<a id = \"date\"></a>\n",
    "\n",
    "### <span style=\"color:#0b486b\">3.2 Date</span>\n",
    "\n",
    "Calendar date values are represented with the date class. Instances have attributes for year, month, and day."
   ]
  },
  {
   "cell_type": "code",
   "execution_count": null,
   "metadata": {
    "colab": {},
    "colab_type": "code",
    "id": "hPdlr4qX-FFt"
   },
   "outputs": [],
   "source": [
    "import datetime\n",
    "\n",
    "today = datetime.date.today()\n",
    "print(today)\n",
    "print('ctime:', today.ctime())\n",
    "print('tuple:', today.timetuple())\n",
    "print('ordinal:', today.toordinal())\n",
    "print('Year:', today.year)\n",
    "print('Mon :', today.month)\n",
    "print('Day :', today.day)"
   ]
  },
  {
   "cell_type": "markdown",
   "metadata": {
    "colab_type": "text",
    "id": "PTbYXTCj-FF0"
   },
   "source": [
    "A way to create new date instances is using the `replace()` method of an existing date. For example, you can change the year, leaving the day and month alone."
   ]
  },
  {
   "cell_type": "code",
   "execution_count": null,
   "metadata": {
    "colab": {},
    "colab_type": "code",
    "id": "2bkkUju6-FF3"
   },
   "outputs": [],
   "source": [
    "import datetime\n",
    "\n",
    "d1 = datetime.date(2013, 3, 12)\n",
    "print('d1:', d1)\n",
    "\n",
    "d2 = d1.replace(year=2015)\n",
    "print('d2:', d2)"
   ]
  },
  {
   "cell_type": "markdown",
   "metadata": {
    "colab_type": "text",
    "id": "S2KFmbfp-FF_"
   },
   "source": [
    "**Exercise 4:**\n",
    "\n",
    "1. Write a piece of code that gives you the day of the week that you were born.\n",
    "2. How about this year? Do you know what day of the week is it?"
   ]
  },
  {
   "cell_type": "code",
   "execution_count": null,
   "metadata": {
    "colab": {},
    "colab_type": "code",
    "id": "KCc7E-_Q-FGB"
   },
   "outputs": [],
   "source": [
    "#Put your code here"
   ]
  },
  {
   "cell_type": "markdown",
   "metadata": {
    "colab_type": "text",
    "id": "SjLqYwOXo-Pi"
   },
   "source": [
    "<details><summary><u><b><font color=\"Blue\">Click here for the solution to Exercise 4</font></b></u></summary>\n",
    "\n",
    "```python\n",
    "import datetime\n",
    "day_of_week = {0 : 'Monday',\n",
    "              1: 'Tuesday',\n",
    "              2: 'Wednesday',\n",
    "              3: 'Thursday',\n",
    "              4: 'Friday',\n",
    "              5: 'Saturday',\n",
    "              6: 'Sunday'}\n",
    "# you could also use a list to store the days o the week\n",
    "# and it would work just fine.\n",
    "# days_of_week = ['Mon', 'Tue', 'Wed', 'Thu', 'Fri', 'Sat', 'Sun']\n",
    "\n",
    "print('Today is', day_of_week[datetime.date.today().weekday()])\n",
    "\n",
    "# Assume my birthday value is 10/10/2008\n",
    "my_birthdate = datetime.date(2008,10,10)\n",
    "print('I was born on', day_of_week[my_birthdate.weekday()])\n",
    "\n",
    "# Change the previous birthday year value with 2019\n",
    "t2 = my_birthdate.replace(year=2019)\n",
    "print('and my birthday this year is on a', day_of_week[t2.weekday()])\n",
    "```\n"
   ]
  },
  {
   "cell_type": "markdown",
   "metadata": {
    "colab_type": "text",
    "id": "ESNhrSou-FGJ"
   },
   "source": [
    "<a id = \"timedelta\"></a>\n",
    "\n",
    "### <span style=\"color:#0b486b\">3.3 timedelta</span>\n",
    "Using `replace()` is not the only way to calculate future/past dates. You can use datetime to perform basic arithmetic on date values via the timedelta class. "
   ]
  },
  {
   "cell_type": "code",
   "execution_count": null,
   "metadata": {
    "colab": {},
    "colab_type": "code",
    "id": "fr7X-Pnq-FGL"
   },
   "outputs": [],
   "source": [
    "today = datetime.datetime.today()\n",
    "print(today)\n",
    "\n",
    "tomorrow = today + datetime.timedelta(days=1)  \n",
    "print(tomorrow)"
   ]
  },
  {
   "cell_type": "markdown",
   "metadata": {
    "colab_type": "text",
    "id": "D1pyHfid-FGU"
   },
   "source": [
    "**Exercise 5:**\n",
    "\n",
    "Rewrite Exercise 4 using timedelta method."
   ]
  },
  {
   "cell_type": "code",
   "execution_count": null,
   "metadata": {
    "colab": {},
    "colab_type": "code",
    "id": "xRr0jYZV-FGX"
   },
   "outputs": [],
   "source": [
    "#Put your code here"
   ]
  },
  {
   "cell_type": "markdown",
   "metadata": {
    "colab_type": "text",
    "id": "GOQNxj5zpdyE"
   },
   "source": [
    "<details><summary><u><b><font color=\"Blue\">Click here for the solution to Exercise 5</font></b></u></summary>\n",
    "\n",
    "```python\n",
    "import datetime\n",
    "day_of_week = {0 : 'Monday',\n",
    "              1: 'Tuesday',\n",
    "              2: 'Wednesday',\n",
    "              3: 'Thursday',\n",
    "              4: 'Friday',\n",
    "              5: 'Saturday',\n",
    "              6: 'Sunday'}\n",
    "# You could also use a list to store the days o the week\n",
    "# and it would work just fine.\n",
    "# days_of_week = ['Mon', 'Tue', 'Wed', 'Thu', 'Fri', 'Sat', 'Sun']\n",
    "\n",
    "print('Today is', day_of_week[datetime.date.today().weekday()])\n",
    "\n",
    "# Assume my birthday value is 10/10/2008\n",
    "my_birthdate = datetime.date(2008,10,10)\n",
    "print('I was born on', day_of_week[my_birthdate.weekday()])\n",
    "\n",
    "# Change the previous birthday year value with 2019\n",
    "#You need to note that both 2012 and 2016 are leap year, which are 366 days in one year not 365 days.\n",
    "t2 = my_birthdate + datetime.timedelta(days=365)*9 + datetime.timedelta(days=366)*2\n",
    "print('and my birthday this year is on a', day_of_week[t2.weekday()])\n",
    "```\n"
   ]
  },
  {
   "cell_type": "markdown",
   "metadata": {
    "colab_type": "text",
    "id": "lCCVhKtCKewi"
   },
   "source": [
    "You will find that the result of exercise 4 is same with the exercise 5.  "
   ]
  },
  {
   "cell_type": "markdown",
   "metadata": {
    "colab_type": "text",
    "id": "NlLyL9gz-FGd"
   },
   "source": [
    "You can use comparison operators for datetime objects too. It makes sense right?"
   ]
  },
  {
   "cell_type": "code",
   "execution_count": null,
   "metadata": {
    "colab": {},
    "colab_type": "code",
    "id": "pN-yw9iA-FGg"
   },
   "outputs": [],
   "source": [
    "tomorrow > today"
   ]
  },
  {
   "cell_type": "markdown",
   "metadata": {
    "colab_type": "text",
    "id": "5wwW6zPU-FGn"
   },
   "source": [
    "<a id = \"parsing\"></a>\n",
    "\n",
    "### <span style=\"color:#0b486b\">3.4 Formatting and Parsing</span>\n",
    "\n",
    "The default string representation of a datetime object uses the ISO 8601 format (YYYY-MM-DDTHH:MM:SS.mmmmmm). Alternate formats can be generated using `strftime()`. Similarly, if your input data includes timestamp values parsable with `time.strptime()`, then `datetime.strptime()` is a convenient way to convert them to datetime instances."
   ]
  },
  {
   "cell_type": "code",
   "execution_count": null,
   "metadata": {
    "colab": {},
    "colab_type": "code",
    "id": "kRoDoulw-FGs"
   },
   "outputs": [],
   "source": [
    "today = datetime.datetime.today()\n",
    "print('ISO     :', today)"
   ]
  },
  {
   "cell_type": "markdown",
   "metadata": {
    "colab_type": "text",
    "id": "nLpPny1k-FG1"
   },
   "source": [
    "string from datetime object"
   ]
  },
  {
   "cell_type": "code",
   "execution_count": null,
   "metadata": {
    "colab": {},
    "colab_type": "code",
    "id": "0YNv0AR_-FG4"
   },
   "outputs": [],
   "source": [
    "str_format = \"%a %b %d %H:%M:%S %Y\"\n",
    "s = today.strftime(str_format)\n",
    "print('strftime:', s)"
   ]
  },
  {
   "cell_type": "markdown",
   "metadata": {
    "colab_type": "text",
    "id": "dC2aAHmT-FHB"
   },
   "source": [
    "datetime object from string"
   ]
  },
  {
   "cell_type": "code",
   "execution_count": null,
   "metadata": {
    "colab": {},
    "colab_type": "code",
    "id": "qHTRTrSg-FHH"
   },
   "outputs": [],
   "source": [
    "print(s)\n",
    "\n",
    "d = datetime.datetime.strptime(s, str_format)\n",
    "print(d)\n",
    "print('strptime:', d.strftime(str_format))"
   ]
  },
  {
   "cell_type": "code",
   "execution_count": null,
   "metadata": {
    "colab": {},
    "colab_type": "code",
    "id": "UYPLivY6-FHO"
   },
   "outputs": [],
   "source": [
    "# Define a string variable \"s\", its value is 07/03/2017\n",
    "s = \"07/03/2017\"\n",
    "# Define the string format\n",
    "str_format = \"%m/%d/%Y\"\n",
    "\n",
    "\n",
    "d = datetime.datetime.strptime(s, str_format)\n",
    "print(d)"
   ]
  },
  {
   "cell_type": "markdown",
   "metadata": {
    "colab_type": "text",
    "id": "Gm82ouDc-FHV"
   },
   "source": [
    "**Exercise 6:**\n",
    "\n",
    "You have a string as \"7/30/2017 - 12:13\". How do you convert it into a datetime object?"
   ]
  },
  {
   "cell_type": "code",
   "execution_count": null,
   "metadata": {
    "colab": {},
    "colab_type": "code",
    "id": "r1V0948Q-FHX"
   },
   "outputs": [],
   "source": [
    "#Put your code here"
   ]
  },
  {
   "cell_type": "markdown",
   "metadata": {
    "colab_type": "text",
    "id": "MktknO-sqiPe"
   },
   "source": [
    "<details><summary><u><b><font color=\"Blue\">Click here for the solution to Exercise 6</font></b></u></summary>\n",
    "\n",
    "```python\n",
    "s = '7/30/2017 - 12:13'\n",
    "str_format = \"%m/%d/%Y - %H:%M\"\n",
    "t = datetime.datetime.strptime(s, str_format)\n",
    "print(t)\n",
    "```\n"
   ]
  }
 ],
 "metadata": {
  "colab": {
   "collapsed_sections": [],
   "name": "M02H-Packages.ipynb",
   "provenance": [],
   "version": "0.3.2"
  },
  "kernelspec": {
   "display_name": "Python 3",
   "language": "python",
   "name": "python3"
  },
  "language_info": {
   "codemirror_mode": {
    "name": "ipython",
    "version": 3
   },
   "file_extension": ".py",
   "mimetype": "text/x-python",
   "name": "python",
   "nbconvert_exporter": "python",
   "pygments_lexer": "ipython3",
   "version": "3.6.4"
  }
 },
 "nbformat": 4,
 "nbformat_minor": 4
}
